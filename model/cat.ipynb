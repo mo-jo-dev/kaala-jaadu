{
 "cells": [
  {
   "cell_type": "code",
<<<<<<< HEAD
   "execution_count": 1,
=======
   "execution_count": 35,
>>>>>>> main
   "metadata": {},
   "outputs": [],
   "source": [
    "import pandas as pd\n",
    "from sklearn.feature_extraction.text import TfidfVectorizer\n",
    "from sklearn.model_selection import train_test_split\n",
    "from sklearn.feature_extraction.text import CountVectorizer\n",
    "from sklearn.feature_extraction.text import TfidfTransformer\n",
    "from sklearn.naive_bayes import MultinomialNB\n",
    "from sklearn import metrics\n",
    "from joblib import dump"
   ]
  },
  {
   "cell_type": "code",
<<<<<<< HEAD
   "execution_count": 2,
=======
   "execution_count": 36,
>>>>>>> main
   "metadata": {},
   "outputs": [
    {
     "data": {
      "text/html": [
       "<div>\n",
       "<style scoped>\n",
       "    .dataframe tbody tr th:only-of-type {\n",
       "        vertical-align: middle;\n",
       "    }\n",
       "\n",
       "    .dataframe tbody tr th {\n",
       "        vertical-align: top;\n",
       "    }\n",
       "\n",
       "    .dataframe thead th {\n",
       "        text-align: right;\n",
       "    }\n",
       "</style>\n",
       "<table border=\"1\" class=\"dataframe\">\n",
       "  <thead>\n",
       "    <tr style=\"text-align: right;\">\n",
       "      <th></th>\n",
       "      <th>text</th>\n",
       "      <th>Pattern Category</th>\n",
       "    </tr>\n",
       "  </thead>\n",
       "  <tbody>\n",
       "    <tr>\n",
       "      <th>0</th>\n",
       "      <td>FLASH SALE | LIMITED TIME ONLY Shop Now</td>\n",
       "      <td>Urgency</td>\n",
       "    </tr>\n",
       "    <tr>\n",
       "      <th>5</th>\n",
       "      <td>In demand</td>\n",
       "      <td>Scarcity</td>\n",
       "    </tr>\n",
       "    <tr>\n",
       "      <th>7</th>\n",
       "      <td>Hurry! Only 2 left in stock</td>\n",
       "      <td>Scarcity</td>\n",
       "    </tr>\n",
       "    <tr>\n",
       "      <th>8</th>\n",
       "      <td>In Stock only 3 left</td>\n",
       "      <td>Scarcity</td>\n",
       "    </tr>\n",
       "    <tr>\n",
       "      <th>11</th>\n",
       "      <td>Hurry! Only 2 left</td>\n",
       "      <td>Scarcity</td>\n",
       "    </tr>\n",
       "    <tr>\n",
       "      <th>...</th>\n",
       "      <td>...</td>\n",
       "      <td>...</td>\n",
       "    </tr>\n",
       "    <tr>\n",
<<<<<<< HEAD
       "      <th>3848</th>\n",
       "      <td>Want Free Shipping?</td>\n",
       "      <td>Misdirection</td>\n",
       "    </tr>\n",
       "    <tr>\n",
       "      <th>3849</th>\n",
       "      <td>We'd like to keep you informed via email about...</td>\n",
       "      <td>Misdirection</td>\n",
       "    </tr>\n",
       "    <tr>\n",
       "      <th>3850</th>\n",
       "      <td>Tick here if you do not want to receive Promot...</td>\n",
       "      <td>Misdirection</td>\n",
       "    </tr>\n",
       "    <tr>\n",
       "      <th>3851</th>\n",
       "      <td>\"We'd love to send you emails with offers and ...</td>\n",
       "      <td>Misdirection</td>\n",
       "    </tr>\n",
       "    <tr>\n",
       "      <th>3852</th>\n",
       "      <td>I already have this item. Do not add this to cart</td>\n",
       "      <td>Misdirection</td>\n",
       "    </tr>\n",
       "  </tbody>\n",
       "</table>\n",
       "<p>2675 rows × 2 columns</p>\n",
=======
       "      <th>2345</th>\n",
       "      <td>No thanks, I like paying full price</td>\n",
       "      <td>Misdirection</td>\n",
       "    </tr>\n",
       "    <tr>\n",
       "      <th>2349</th>\n",
       "      <td>ONLY 9 LEFT</td>\n",
       "      <td>Scarcity</td>\n",
       "    </tr>\n",
       "    <tr>\n",
       "      <th>2350</th>\n",
       "      <td>No Thanks, I don't want official software at t...</td>\n",
       "      <td>Misdirection</td>\n",
       "    </tr>\n",
       "    <tr>\n",
       "      <th>2353</th>\n",
       "      <td>Only 4 left in stock</td>\n",
       "      <td>Scarcity</td>\n",
       "    </tr>\n",
       "    <tr>\n",
       "      <th>2355</th>\n",
       "      <td>10 Left in stock</td>\n",
       "      <td>Scarcity</td>\n",
       "    </tr>\n",
       "  </tbody>\n",
       "</table>\n",
       "<p>1178 rows × 2 columns</p>\n",
>>>>>>> main
       "</div>"
      ],
      "text/plain": [
       "                                                   text Pattern Category\n",
       "0               FLASH SALE | LIMITED TIME ONLY Shop Now          Urgency\n",
       "5                                             In demand         Scarcity\n",
       "7                           Hurry! Only 2 left in stock         Scarcity\n",
       "8                                  In Stock only 3 left         Scarcity\n",
       "11                                   Hurry! Only 2 left         Scarcity\n",
       "...                                                 ...              ...\n",
<<<<<<< HEAD
       "3848                                Want Free Shipping?     Misdirection\n",
       "3849  We'd like to keep you informed via email about...     Misdirection\n",
       "3850  Tick here if you do not want to receive Promot...     Misdirection\n",
       "3851  \"We'd love to send you emails with offers and ...     Misdirection\n",
       "3852  I already have this item. Do not add this to cart     Misdirection\n",
       "\n",
       "[2675 rows x 2 columns]"
      ]
     },
     "execution_count": 2,
=======
       "2345                No thanks, I like paying full price     Misdirection\n",
       "2349                                        ONLY 9 LEFT         Scarcity\n",
       "2350  No Thanks, I don't want official software at t...     Misdirection\n",
       "2353                               Only 4 left in stock         Scarcity\n",
       "2355                                   10 Left in stock         Scarcity\n",
       "\n",
       "[1178 rows x 2 columns]"
      ]
     },
     "execution_count": 36,
>>>>>>> main
     "metadata": {},
     "output_type": "execute_result"
    }
   ],
   "source": [
    "select = \"Pattern Category\"\n",
    "\n",
<<<<<<< HEAD
    "df = pd.read_csv('cat_data.csv')\n",
=======
    "df = pd.read_csv('dataset.csv')\n",
>>>>>>> main
    "\n",
    "df = df[pd.notnull(df['text'])]\n",
    "df = df[df[\"Pattern Category\"] != \"Not Dark Pattern\"]\n",
    "col = [\"text\", select]\n",
    "df=df[col]\n",
    "df"
   ]
  },
  {
   "cell_type": "code",
<<<<<<< HEAD
   "execution_count": 3,
=======
   "execution_count": 37,
>>>>>>> main
   "metadata": {},
   "outputs": [
    {
     "data": {
      "text/html": [
       "<div>\n",
       "<style scoped>\n",
       "    .dataframe tbody tr th:only-of-type {\n",
       "        vertical-align: middle;\n",
       "    }\n",
       "\n",
       "    .dataframe tbody tr th {\n",
       "        vertical-align: top;\n",
       "    }\n",
       "\n",
       "    .dataframe thead th {\n",
       "        text-align: right;\n",
       "    }\n",
       "</style>\n",
       "<table border=\"1\" class=\"dataframe\">\n",
       "  <thead>\n",
       "    <tr style=\"text-align: right;\">\n",
       "      <th></th>\n",
       "      <th>text</th>\n",
       "      <th>Pattern Category</th>\n",
       "      <th>category_id</th>\n",
       "    </tr>\n",
       "  </thead>\n",
       "  <tbody>\n",
       "    <tr>\n",
       "      <th>0</th>\n",
       "      <td>FLASH SALE | LIMITED TIME ONLY Shop Now</td>\n",
       "      <td>Urgency</td>\n",
       "      <td>0</td>\n",
       "    </tr>\n",
       "    <tr>\n",
       "      <th>5</th>\n",
       "      <td>In demand</td>\n",
       "      <td>Scarcity</td>\n",
       "      <td>1</td>\n",
       "    </tr>\n",
       "    <tr>\n",
       "      <th>7</th>\n",
       "      <td>Hurry! Only 2 left in stock</td>\n",
       "      <td>Scarcity</td>\n",
       "      <td>1</td>\n",
       "    </tr>\n",
       "    <tr>\n",
       "      <th>8</th>\n",
       "      <td>In Stock only 3 left</td>\n",
       "      <td>Scarcity</td>\n",
       "      <td>1</td>\n",
       "    </tr>\n",
       "    <tr>\n",
       "      <th>11</th>\n",
       "      <td>Hurry! Only 2 left</td>\n",
       "      <td>Scarcity</td>\n",
       "      <td>1</td>\n",
       "    </tr>\n",
       "    <tr>\n",
       "      <th>...</th>\n",
       "      <td>...</td>\n",
       "      <td>...</td>\n",
       "      <td>...</td>\n",
       "    </tr>\n",
       "    <tr>\n",
<<<<<<< HEAD
       "      <th>3848</th>\n",
       "      <td>Want Free Shipping?</td>\n",
=======
       "      <th>2345</th>\n",
       "      <td>No thanks, I like paying full price</td>\n",
>>>>>>> main
       "      <td>Misdirection</td>\n",
       "      <td>2</td>\n",
       "    </tr>\n",
       "    <tr>\n",
<<<<<<< HEAD
       "      <th>3849</th>\n",
       "      <td>We'd like to keep you informed via email about...</td>\n",
=======
       "      <th>2349</th>\n",
       "      <td>ONLY 9 LEFT</td>\n",
       "      <td>Scarcity</td>\n",
       "      <td>1</td>\n",
       "    </tr>\n",
       "    <tr>\n",
       "      <th>2350</th>\n",
       "      <td>No Thanks, I don't want official software at t...</td>\n",
>>>>>>> main
       "      <td>Misdirection</td>\n",
       "      <td>2</td>\n",
       "    </tr>\n",
       "    <tr>\n",
<<<<<<< HEAD
       "      <th>3850</th>\n",
       "      <td>Tick here if you do not want to receive Promot...</td>\n",
       "      <td>Misdirection</td>\n",
       "      <td>2</td>\n",
       "    </tr>\n",
       "    <tr>\n",
       "      <th>3851</th>\n",
       "      <td>\"We'd love to send you emails with offers and ...</td>\n",
       "      <td>Misdirection</td>\n",
       "      <td>2</td>\n",
       "    </tr>\n",
       "    <tr>\n",
       "      <th>3852</th>\n",
       "      <td>I already have this item. Do not add this to cart</td>\n",
       "      <td>Misdirection</td>\n",
       "      <td>2</td>\n",
       "    </tr>\n",
       "  </tbody>\n",
       "</table>\n",
       "<p>2675 rows × 3 columns</p>\n",
=======
       "      <th>2353</th>\n",
       "      <td>Only 4 left in stock</td>\n",
       "      <td>Scarcity</td>\n",
       "      <td>1</td>\n",
       "    </tr>\n",
       "    <tr>\n",
       "      <th>2355</th>\n",
       "      <td>10 Left in stock</td>\n",
       "      <td>Scarcity</td>\n",
       "      <td>1</td>\n",
       "    </tr>\n",
       "  </tbody>\n",
       "</table>\n",
       "<p>1178 rows × 3 columns</p>\n",
>>>>>>> main
       "</div>"
      ],
      "text/plain": [
       "                                                   text Pattern Category  \\\n",
       "0               FLASH SALE | LIMITED TIME ONLY Shop Now          Urgency   \n",
       "5                                             In demand         Scarcity   \n",
       "7                           Hurry! Only 2 left in stock         Scarcity   \n",
       "8                                  In Stock only 3 left         Scarcity   \n",
       "11                                   Hurry! Only 2 left         Scarcity   \n",
       "...                                                 ...              ...   \n",
<<<<<<< HEAD
       "3848                                Want Free Shipping?     Misdirection   \n",
       "3849  We'd like to keep you informed via email about...     Misdirection   \n",
       "3850  Tick here if you do not want to receive Promot...     Misdirection   \n",
       "3851  \"We'd love to send you emails with offers and ...     Misdirection   \n",
       "3852  I already have this item. Do not add this to cart     Misdirection   \n",
=======
       "2345                No thanks, I like paying full price     Misdirection   \n",
       "2349                                        ONLY 9 LEFT         Scarcity   \n",
       "2350  No Thanks, I don't want official software at t...     Misdirection   \n",
       "2353                               Only 4 left in stock         Scarcity   \n",
       "2355                                   10 Left in stock         Scarcity   \n",
>>>>>>> main
       "\n",
       "      category_id  \n",
       "0               0  \n",
       "5               1  \n",
       "7               1  \n",
       "8               1  \n",
       "11              1  \n",
       "...           ...  \n",
<<<<<<< HEAD
       "3848            2  \n",
       "3849            2  \n",
       "3850            2  \n",
       "3851            2  \n",
       "3852            2  \n",
       "\n",
       "[2675 rows x 3 columns]"
      ]
     },
     "execution_count": 3,
=======
       "2345            2  \n",
       "2349            1  \n",
       "2350            2  \n",
       "2353            1  \n",
       "2355            1  \n",
       "\n",
       "[1178 rows x 3 columns]"
      ]
     },
     "execution_count": 37,
>>>>>>> main
     "metadata": {},
     "output_type": "execute_result"
    }
   ],
   "source": [
    "df[\"category_id\"] = df[select].factorize()[0]\n",
    "df"
   ]
  },
  {
   "cell_type": "code",
<<<<<<< HEAD
   "execution_count": 4,
=======
   "execution_count": 38,
>>>>>>> main
   "metadata": {},
   "outputs": [],
   "source": [
    "category_id_df = df[[select, 'category_id']\n",
    "                    ].drop_duplicates().sort_values('category_id')\n",
    "category_to_id = dict(category_id_df.values)\n",
    "id_to_category = dict(\n",
    "    category_id_df[['category_id', select]].values)"
   ]
  },
  {
   "cell_type": "code",
<<<<<<< HEAD
   "execution_count": 5,
=======
   "execution_count": 39,
>>>>>>> main
   "metadata": {},
   "outputs": [],
   "source": [
    "tfidf = TfidfVectorizer(sublinear_tf=True, min_df=5, norm='l2',\n",
    "                        encoding='latin-1', ngram_range=(1, 2), stop_words='english')\n",
    "\n",
    "features = tfidf.fit_transform(df[\"text\"]).toarray()\n",
    "labels = df.category_id"
   ]
  },
  {
   "cell_type": "code",
<<<<<<< HEAD
   "execution_count": 6,
=======
   "execution_count": 71,
>>>>>>> main
   "metadata": {},
   "outputs": [
    {
     "data": {
      "text/plain": [
<<<<<<< HEAD
       "0.9427835051546392"
      ]
     },
     "execution_count": 6,
=======
       "0.9146198830409357"
      ]
     },
     "execution_count": 71,
>>>>>>> main
     "metadata": {},
     "output_type": "execute_result"
    }
   ],
   "source": [
    "X_train, X_test, y_train, y_test = train_test_split(\n",
    "    df['text'], df[select], train_size=.275)\n",
    "count_vect = CountVectorizer()\n",
    "X_train_counts = count_vect.fit_transform(X_train)\n",
    "tfidf_transformer = TfidfTransformer()\n",
    "X_train_tfidf = tfidf_transformer.fit_transform(X_train_counts)\n",
    "\n",
    "clf = MultinomialNB().fit(X_train_tfidf, y_train)\n",
    "\n",
    "y_pred = clf.predict(count_vect.transform(X_test))\n",
    "\n",
    "metrics.accuracy_score(y_pred, y_test)"
   ]
  },
  {
   "cell_type": "code",
<<<<<<< HEAD
   "execution_count": 8,
=======
   "execution_count": 72,
>>>>>>> main
   "metadata": {},
   "outputs": [
    {
     "data": {
      "text/plain": [
       "['cat_vector.joblib']"
      ]
     },
<<<<<<< HEAD
     "execution_count": 8,
=======
     "execution_count": 72,
>>>>>>> main
     "metadata": {},
     "output_type": "execute_result"
    }
   ],
   "source": [
    "dump(clf,'cat_class.joblib')\n",
    "dump(count_vect,'cat_vector.joblib')"
   ]
  }
 ],
 "metadata": {
  "kernelspec": {
   "display_name": "Python 3",
   "language": "python",
   "name": "python3"
  },
  "language_info": {
   "codemirror_mode": {
    "name": "ipython",
    "version": 3
   },
   "file_extension": ".py",
   "mimetype": "text/x-python",
   "name": "python",
   "nbconvert_exporter": "python",
   "pygments_lexer": "ipython3",
   "version": "3.12.1"
  }
 },
 "nbformat": 4,
 "nbformat_minor": 2
}
